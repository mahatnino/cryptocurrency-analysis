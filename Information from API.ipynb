{
 "cells": [
  {
   "cell_type": "code",
   "execution_count": 1,
   "metadata": {},
   "outputs": [],
   "source": [
    "#import all necessary library\n",
    "import json\n",
    "import urllib"
   ]
  },
  {
   "cell_type": "code",
   "execution_count": 2,
   "metadata": {},
   "outputs": [],
   "source": [
    "url = 'https://min-api.cryptocompare.com/data/pricemultifull?fsyms=BTC&tsyms=USD,EUR'"
   ]
  },
  {
   "cell_type": "code",
   "execution_count": 3,
   "metadata": {},
   "outputs": [],
   "source": [
    "json_obj1 = urllib.request.urlopen(url)"
   ]
  },
  {
   "cell_type": "code",
   "execution_count": 4,
   "metadata": {},
   "outputs": [],
   "source": [
    "df_Multiple_Symbols_Full_Data = json.load(json_obj1)"
   ]
  },
  {
   "cell_type": "code",
   "execution_count": 5,
   "metadata": {},
   "outputs": [
    {
     "name": "stdout",
     "output_type": "stream",
     "text": [
      "{'RAW': {'BTC': {'USD': {'TYPE': '5', 'MARKET': 'CCCAGG', 'FROMSYMBOL': 'BTC', 'TOSYMBOL': 'USD', 'FLAGS': '1', 'PRICE': 3614.95, 'LASTUPDATE': 1548512027, 'LASTVOLUME': 0.08169366, 'LASTVOLUMETO': 299.05598116199997, 'LASTTRADEID': '334665250', 'VOLUMEDAY': 19911.646251622802, 'VOLUMEDAYTO': 72499395.69630945, 'VOLUME24HOUR': 30716.755422786722, 'VOLUME24HOURTO': 111051243.66328683, 'OPENDAY': 3583.06, 'HIGHDAY': 3676.4, 'LOWDAY': 3579.89, 'OPEN24HOUR': 3583.7, 'HIGH24HOUR': 3697.16, 'LOW24HOUR': 3565.44, 'LASTMARKET': 'Bitfinex', 'VOLUMEHOUR': 429.28654316099926, 'VOLUMEHOURTO': 1563844.3160106477, 'OPENHOUR': 3611.39, 'HIGHHOUR': 3615.34, 'LOWHOUR': 3610.83, 'CHANGE24HOUR': 31.25, 'CHANGEPCT24HOUR': 0.8720037949605156, 'CHANGEDAY': 31.889999999999873, 'CHANGEPCTDAY': 0.890021378374905, 'SUPPLY': 17502325, 'MKTCAP': 63270029758.75, 'TOTALVOLUME24H': 257079.88942005095, 'TOTALVOLUME24HTO': 929342654.9066972, 'IMAGEURL': '/media/19633/btc.png'}, 'EUR': {'TYPE': '5', 'MARKET': 'CCCAGG', 'FROMSYMBOL': 'BTC', 'TOSYMBOL': 'EUR', 'FLAGS': '4', 'PRICE': 3162.03, 'LASTUPDATE': 1548512025, 'LASTVOLUME': 0.020641, 'LASTVOLUMETO': 64.99747694999999, 'LASTTRADEID': '81924580', 'VOLUMEDAY': 3666.5657716201813, 'VOLUMEDAYTO': 11642665.781392492, 'VOLUME24HOUR': 6250.770127689999, 'VOLUME24HOURTO': 19742677.31529264, 'OPENDAY': 3138.31, 'HIGHDAY': 3215.67, 'LOWDAY': 3134.06, 'OPEN24HOUR': 3143.88, 'HIGH24HOUR': 3221.9, 'LOW24HOUR': 3118.01, 'LASTMARKET': 'Bitstamp', 'VOLUMEHOUR': 42.09546359000002, 'VOLUMEHOURTO': 133006.9915912623, 'OPENHOUR': 3160.34, 'HIGHHOUR': 3162.09, 'LOWHOUR': 3158.32, 'CHANGE24HOUR': 18.15000000000009, 'CHANGEPCT24HOUR': 0.5773121111492834, 'CHANGEDAY': 23.720000000000255, 'CHANGEPCTDAY': 0.7558208080145128, 'SUPPLY': 17502325, 'MKTCAP': 55342876719.75, 'TOTALVOLUME24H': 257079.88942005095, 'TOTALVOLUME24HTO': 812871877.3913168, 'IMAGEURL': '/media/19633/btc.png'}}}, 'DISPLAY': {'BTC': {'USD': {'FROMSYMBOL': 'Ƀ', 'TOSYMBOL': '$', 'MARKET': 'CryptoCompare Index', 'PRICE': '$ 3,614.95', 'LASTUPDATE': 'Just now', 'LASTVOLUME': 'Ƀ 0.08169', 'LASTVOLUMETO': '$ 299.06', 'LASTTRADEID': '334665250', 'VOLUMEDAY': 'Ƀ 19,911.6', 'VOLUMEDAYTO': '$ 72,499,395.7', 'VOLUME24HOUR': 'Ƀ 30,716.8', 'VOLUME24HOURTO': '$ 111,051,243.7', 'OPENDAY': '$ 3,583.06', 'HIGHDAY': '$ 3,676.40', 'LOWDAY': '$ 3,579.89', 'OPEN24HOUR': '$ 3,583.70', 'HIGH24HOUR': '$ 3,697.16', 'LOW24HOUR': '$ 3,565.44', 'LASTMARKET': 'Bitfinex', 'VOLUMEHOUR': 'Ƀ 429.29', 'VOLUMEHOURTO': '$ 1,563,844.3', 'OPENHOUR': '$ 3,611.39', 'HIGHHOUR': '$ 3,615.34', 'LOWHOUR': '$ 3,610.83', 'CHANGE24HOUR': '$ 31.25', 'CHANGEPCT24HOUR': '0.87', 'CHANGEDAY': '$ 31.89', 'CHANGEPCTDAY': '0.89', 'SUPPLY': 'Ƀ 17,502,325.0', 'MKTCAP': '$ 63.27 B', 'TOTALVOLUME24H': 'Ƀ 257.08 K', 'TOTALVOLUME24HTO': '$ 929.34 M', 'IMAGEURL': '/media/19633/btc.png'}, 'EUR': {'FROMSYMBOL': 'Ƀ', 'TOSYMBOL': '€', 'MARKET': 'CryptoCompare Index', 'PRICE': '€ 3,162.03', 'LASTUPDATE': 'Just now', 'LASTVOLUME': 'Ƀ 0.02064', 'LASTVOLUMETO': '€ 65.00', 'LASTTRADEID': '81924580', 'VOLUMEDAY': 'Ƀ 3,666.57', 'VOLUMEDAYTO': '€ 11,642,665.8', 'VOLUME24HOUR': 'Ƀ 6,250.77', 'VOLUME24HOURTO': '€ 19,742,677.3', 'OPENDAY': '€ 3,138.31', 'HIGHDAY': '€ 3,215.67', 'LOWDAY': '€ 3,134.06', 'OPEN24HOUR': '€ 3,143.88', 'HIGH24HOUR': '€ 3,221.90', 'LOW24HOUR': '€ 3,118.01', 'LASTMARKET': 'Bitstamp', 'VOLUMEHOUR': 'Ƀ 42.10', 'VOLUMEHOURTO': '€ 133,007.0', 'OPENHOUR': '€ 3,160.34', 'HIGHHOUR': '€ 3,162.09', 'LOWHOUR': '€ 3,158.32', 'CHANGE24HOUR': '€ 18.15', 'CHANGEPCT24HOUR': '0.58', 'CHANGEDAY': '€ 23.72', 'CHANGEPCTDAY': '0.76', 'SUPPLY': 'Ƀ 17,502,325.0', 'MKTCAP': '€ 55.34 B', 'TOTALVOLUME24H': 'Ƀ 257.08 K', 'TOTALVOLUME24HTO': '€ 812.87 M', 'IMAGEURL': '/media/19633/btc.png'}}}}\n"
     ]
    }
   ],
   "source": [
    "print (df_Multiple_Symbols_Full_Data) "
   ]
  },
  {
   "cell_type": "code",
   "execution_count": 6,
   "metadata": {},
   "outputs": [],
   "source": [
    "import pandas as pd"
   ]
  },
  {
   "cell_type": "code",
   "execution_count": 7,
   "metadata": {},
   "outputs": [],
   "source": [
    "df = pd.DataFrame(df_Multiple_Symbols_Full_Data )"
   ]
  },
  {
   "cell_type": "code",
   "execution_count": 8,
   "metadata": {},
   "outputs": [
    {
     "data": {
      "text/html": [
       "<div>\n",
       "<style scoped>\n",
       "    .dataframe tbody tr th:only-of-type {\n",
       "        vertical-align: middle;\n",
       "    }\n",
       "\n",
       "    .dataframe tbody tr th {\n",
       "        vertical-align: top;\n",
       "    }\n",
       "\n",
       "    .dataframe thead th {\n",
       "        text-align: right;\n",
       "    }\n",
       "</style>\n",
       "<table border=\"1\" class=\"dataframe\">\n",
       "  <thead>\n",
       "    <tr style=\"text-align: right;\">\n",
       "      <th></th>\n",
       "      <th>RAW</th>\n",
       "      <th>DISPLAY</th>\n",
       "    </tr>\n",
       "  </thead>\n",
       "  <tbody>\n",
       "    <tr>\n",
       "      <th>BTC</th>\n",
       "      <td>{'USD': {'TYPE': '5', 'MARKET': 'CCCAGG', 'FRO...</td>\n",
       "      <td>{'USD': {'FROMSYMBOL': 'Ƀ', 'TOSYMBOL': '$', '...</td>\n",
       "    </tr>\n",
       "  </tbody>\n",
       "</table>\n",
       "</div>"
      ],
      "text/plain": [
       "                                                   RAW  \\\n",
       "BTC  {'USD': {'TYPE': '5', 'MARKET': 'CCCAGG', 'FRO...   \n",
       "\n",
       "                                               DISPLAY  \n",
       "BTC  {'USD': {'FROMSYMBOL': 'Ƀ', 'TOSYMBOL': '$', '...  "
      ]
     },
     "execution_count": 8,
     "metadata": {},
     "output_type": "execute_result"
    }
   ],
   "source": [
    "df.head()"
   ]
  },
  {
   "cell_type": "code",
   "execution_count": 9,
   "metadata": {},
   "outputs": [
    {
     "data": {
      "text/html": [
       "<div>\n",
       "<style scoped>\n",
       "    .dataframe tbody tr th:only-of-type {\n",
       "        vertical-align: middle;\n",
       "    }\n",
       "\n",
       "    .dataframe tbody tr th {\n",
       "        vertical-align: top;\n",
       "    }\n",
       "\n",
       "    .dataframe thead th {\n",
       "        text-align: right;\n",
       "    }\n",
       "</style>\n",
       "<table border=\"1\" class=\"dataframe\">\n",
       "  <thead>\n",
       "    <tr style=\"text-align: right;\">\n",
       "      <th></th>\n",
       "      <th>RAW</th>\n",
       "      <th>DISPLAY</th>\n",
       "    </tr>\n",
       "  </thead>\n",
       "  <tbody>\n",
       "    <tr>\n",
       "      <th>BTC</th>\n",
       "      <td>{'USD': {'TYPE': '5', 'MARKET': 'CCCAGG', 'FRO...</td>\n",
       "      <td>{'USD': {'FROMSYMBOL': 'Ƀ', 'TOSYMBOL': '$', '...</td>\n",
       "    </tr>\n",
       "  </tbody>\n",
       "</table>\n",
       "</div>"
      ],
      "text/plain": [
       "                                                   RAW  \\\n",
       "BTC  {'USD': {'TYPE': '5', 'MARKET': 'CCCAGG', 'FRO...   \n",
       "\n",
       "                                               DISPLAY  \n",
       "BTC  {'USD': {'FROMSYMBOL': 'Ƀ', 'TOSYMBOL': '$', '...  "
      ]
     },
     "execution_count": 9,
     "metadata": {},
     "output_type": "execute_result"
    }
   ],
   "source": [
    "df.head(5)"
   ]
  },
  {
   "cell_type": "code",
   "execution_count": 10,
   "metadata": {},
   "outputs": [],
   "source": [
    "# the above example shows us how to use web api with api to access the information from the website."
   ]
  },
  {
   "cell_type": "code",
   "execution_count": 12,
   "metadata": {},
   "outputs": [],
   "source": [
    "#Below illustrates using a simple Single Symbol Price in various currency of the cryptocurreny pulled from the web api"
   ]
  },
  {
   "cell_type": "code",
   "execution_count": 13,
   "metadata": {},
   "outputs": [],
   "source": [
    "url2 = 'https://min-api.cryptocompare.com/data/price?fsym=BTC&tsyms=USD,JPY,EUR'"
   ]
  },
  {
   "cell_type": "code",
   "execution_count": 21,
   "metadata": {},
   "outputs": [],
   "source": [
    "json_obj2 = json.load(urllib.request.urlopen(url2))"
   ]
  },
  {
   "cell_type": "code",
   "execution_count": 28,
   "metadata": {},
   "outputs": [],
   "source": [
    "df_ssp = pd.DataFrame(json_obj2, [1])"
   ]
  },
  {
   "cell_type": "code",
   "execution_count": 29,
   "metadata": {},
   "outputs": [
    {
     "data": {
      "text/html": [
       "<div>\n",
       "<style scoped>\n",
       "    .dataframe tbody tr th:only-of-type {\n",
       "        vertical-align: middle;\n",
       "    }\n",
       "\n",
       "    .dataframe tbody tr th {\n",
       "        vertical-align: top;\n",
       "    }\n",
       "\n",
       "    .dataframe thead th {\n",
       "        text-align: right;\n",
       "    }\n",
       "</style>\n",
       "<table border=\"1\" class=\"dataframe\">\n",
       "  <thead>\n",
       "    <tr style=\"text-align: right;\">\n",
       "      <th></th>\n",
       "      <th>USD</th>\n",
       "      <th>JPY</th>\n",
       "      <th>EUR</th>\n",
       "    </tr>\n",
       "  </thead>\n",
       "  <tbody>\n",
       "    <tr>\n",
       "      <th>1</th>\n",
       "      <td>3612.17</td>\n",
       "      <td>391370.76</td>\n",
       "      <td>3157.53</td>\n",
       "    </tr>\n",
       "  </tbody>\n",
       "</table>\n",
       "</div>"
      ],
      "text/plain": [
       "       USD        JPY      EUR\n",
       "1  3612.17  391370.76  3157.53"
      ]
     },
     "execution_count": 29,
     "metadata": {},
     "output_type": "execute_result"
    }
   ],
   "source": [
    "df_ssp.head()"
   ]
  },
  {
   "cell_type": "code",
   "execution_count": 32,
   "metadata": {},
   "outputs": [
    {
     "data": {
      "text/plain": [
       "<matplotlib.axes._subplots.AxesSubplot at 0x7fbc2ba218d0>"
      ]
     },
     "execution_count": 32,
     "metadata": {},
     "output_type": "execute_result"
    },
    {
     "data": {
      "image/png": "[encoded data removed]",
      "text/plain": [
       "<Figure size 432x288 with 1 Axes>"
      ]
     },
     "metadata": {
      "needs_background": "light"
     },
     "output_type": "display_data"
    }
   ],
   "source": [
    "df_ssp.plot(kind='bar')"
   ]
  },
  {
   "cell_type": "code",
   "execution_count": 33,
   "metadata": {},
   "outputs": [],
   "source": [
    "#above we can see price of bitcoin in various currency"
   ]
  },
  {
   "cell_type": "code",
   "execution_count": null,
   "metadata": {},
   "outputs": [],
   "source": []
  }
 ],
 "metadata": {
  "kernelspec": {
   "display_name": "Python 3",
   "language": "python",
   "name": "python3"
  },
  "language_info": {
   "codemirror_mode": {
    "name": "ipython",
    "version": 3
   },
   "file_extension": ".py",
   "mimetype": "text/x-python",
   "name": "python",
   "nbconvert_exporter": "python",
   "pygments_lexer": "ipython3",
   "version": "3.6.7"
  }
 },
 "nbformat": 4,
 "nbformat_minor": 2
}
